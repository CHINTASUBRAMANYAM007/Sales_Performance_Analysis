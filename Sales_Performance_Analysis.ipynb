{
  "metadata": {
    "kernelspec": {
      "name": "python",
      "display_name": "Python (Pyodide)",
      "language": "python"
    },
    "language_info": {
      "codemirror_mode": {
        "name": "python",
        "version": 3
      },
      "file_extension": ".py",
      "mimetype": "text/x-python",
      "name": "python",
      "nbconvert_exporter": "python",
      "pygments_lexer": "ipython3",
      "version": "3.8"
    }
  },
  "nbformat_minor": 4,
  "nbformat": 4,
  "cells": [
    {
      "cell_type": "code",
      "source": "# Import necessary libraries\nimport pandas as pd\nimport numpy as np\nimport matplotlib.pyplot as plt\nimport seaborn as sns\nfrom sklearn.model_selection import train_test_split\nfrom sklearn.ensemble import RandomForestRegressor\nfrom sklearn.metrics import mean_squared_error, mean_absolute_error, r2_score\nfrom sklearn.preprocessing import StandardScaler\n",
      "metadata": {
        "trusted": true
      },
      "outputs": [],
      "execution_count": null
    },
    {
      "cell_type": "code",
      "source": "# Load the dataset\ndata_path = r\"C:\\Users\\subra\\Desktop\\Projects\\New Projects\\Sales_Performance_Analysis\\data\\sales_data.csv\"\ndf = pd.read_csv(data_path)",
      "metadata": {
        "trusted": true
      },
      "outputs": [],
      "execution_count": null
    },
    {
      "cell_type": "code",
      "source": "# Display basic information about the dataset\nprint(\"First five rows of the dataset:\")\nprint(df.head())\n\nprint(\"\\nSummary statistics of the dataset:\")\nprint(df.describe())\n\nprint(\"\\nDataset information:\")\nprint(df.info())",
      "metadata": {
        "trusted": true
      },
      "outputs": [],
      "execution_count": null
    },
    {
      "cell_type": "code",
      "source": "# Check for missing values\nprint(\"\\nMissing values in the dataset:\")\nprint(df.isnull().sum())\n",
      "metadata": {
        "trusted": true
      },
      "outputs": [],
      "execution_count": null
    },
    {
      "cell_type": "code",
      "source": "# Handle missing values (fill with median for numerical columns or drop if necessary)\ndf['Sales'].fillna(df['Sales'].median(), inplace=True)  # Fill missing sales data with median\ndf['Profit'].fillna(df['Profit'].median(), inplace=True)  # Fill missing profit data with median\ndf['Quantity'].fillna(df['Quantity'].median(), inplace=True)  # Fill missing quantity with median\ndf['Region'].fillna(df['Region'].mode()[0], inplace=True)  # Fill missing region with mode",
      "metadata": {
        "trusted": true
      },
      "outputs": [],
      "execution_count": null
    },
    {
      "cell_type": "code",
      "source": "# Exploratory Data Analysis (EDA)\n# Distribution of sales\nplt.figure(figsize=(8, 6))\nsns.histplot(df['Sales'], kde=True, bins=30, color='blue')\nplt.title(\"Distribution of Sales\")\nplt.xlabel(\"Sales\")\nplt.ylabel(\"Frequency\")\nplt.show()",
      "metadata": {
        "trusted": true
      },
      "outputs": [],
      "execution_count": null
    },
    {
      "cell_type": "code",
      "source": "# Distribution of profit\nplt.figure(figsize=(8, 6))\nsns.histplot(df['Profit'], kde=True, bins=30, color='green')\nplt.title(\"Distribution of Profit\")\nplt.xlabel(\"Profit\")\nplt.ylabel(\"Frequency\")\nplt.show()",
      "metadata": {
        "trusted": true
      },
      "outputs": [],
      "execution_count": null
    },
    {
      "cell_type": "code",
      "source": "# Sales vs Profit\nplt.figure(figsize=(8, 6))\nsns.scatterplot(x=df['Sales'], y=df['Profit'], alpha=0.7, color='red')\nplt.title(\"Sales vs Profit\")\nplt.xlabel(\"Sales\")\nplt.ylabel(\"Profit\")\nplt.show()",
      "metadata": {
        "trusted": true
      },
      "outputs": [],
      "execution_count": null
    },
    {
      "cell_type": "code",
      "source": "# Correlation heatmap\nplt.figure(figsize=(10, 8))\nsns.heatmap(df.corr(), annot=True, cmap='coolwarm', fmt='.2f')\nplt.title(\"Correlation Heatmap of Features\")\nplt.show()",
      "metadata": {
        "trusted": true
      },
      "outputs": [],
      "execution_count": null
    },
    {
      "cell_type": "code",
      "source": "# Feature and target selection\nX = df[['Sales', 'Quantity', 'Region']]  # Features\ny = df['Profit']  # Target (Profit)",
      "metadata": {
        "trusted": true
      },
      "outputs": [],
      "execution_count": null
    },
    {
      "cell_type": "code",
      "source": "# Convert categorical variables to numeric\nX = pd.get_dummies(X, columns=['Region'], drop_first=True)",
      "metadata": {
        "trusted": true
      },
      "outputs": [],
      "execution_count": null
    },
    {
      "cell_type": "code",
      "source": "# Train-test split\nX_train, X_test, y_train, y_test = train_test_split(X, y, test_size=0.3, random_state=42)\n",
      "metadata": {
        "trusted": true
      },
      "outputs": [],
      "execution_count": null
    },
    {
      "cell_type": "code",
      "source": "# Scale numerical features\nscaler = StandardScaler()\nX_train_scaled = scaler.fit_transform(X_train)\nX_test_scaled = scaler.transform(X_test)",
      "metadata": {
        "trusted": true
      },
      "outputs": [],
      "execution_count": null
    },
    {
      "cell_type": "code",
      "source": "# Train the model using Random Forest Regressor\nmodel = RandomForestRegressor(random_state=42)\nmodel.fit(X_train_scaled, y_train)",
      "metadata": {
        "trusted": true
      },
      "outputs": [],
      "execution_count": null
    },
    {
      "cell_type": "code",
      "source": "# Make predictions\ny_pred = model.predict(X_test_scaled)",
      "metadata": {
        "trusted": true
      },
      "outputs": [],
      "execution_count": null
    },
    {
      "cell_type": "code",
      "source": "# Evaluate the model\nmse = mean_squared_error(y_test, y_pred)\nmae = mean_absolute_error(y_test, y_pred)\nr2 = r2_score(y_test, y_pred)\n\nprint(f\"\\nModel Evaluation Metrics:\\nMean Squared Error: {mse:.2f}\\nMean Absolute Error: {mae:.2f}\\nR^2 Score: {r2:.2f}\")",
      "metadata": {
        "trusted": true
      },
      "outputs": [],
      "execution_count": null
    },
    {
      "cell_type": "code",
      "source": "# Visualize predicted vs actual profit\nplt.figure(figsize=(8, 6))\nsns.scatterplot(x=y_test, y=y_pred, alpha=0.7, color='orange')\nplt.title(\"Predicted vs Actual Profit\")\nplt.xlabel(\"Actual Profit\")\nplt.ylabel(\"Predicted Profit\")\nplt.show()",
      "metadata": {
        "trusted": true
      },
      "outputs": [],
      "execution_count": null
    }
  ]
}